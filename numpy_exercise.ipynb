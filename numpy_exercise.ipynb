{
 "cells": [
  {
   "cell_type": "code",
   "execution_count": 2,
   "metadata": {},
   "outputs": [],
   "source": [
    "import numpy as np"
   ]
  },
  {
   "cell_type": "code",
   "execution_count": 3,
   "metadata": {},
   "outputs": [
    {
     "name": "stdout",
     "output_type": "stream",
     "text": [
      "[[2 3]\n",
      " [5 4]\n",
      " [7 5]\n",
      " [2 1]]\n",
      "numpy array attribute\n",
      "array shape ia: (4, 2)\n",
      "array dimension are: 2\n",
      "Length of each element of array in bytes is: 8\n"
     ]
    }
   ],
   "source": [
    "#Exercise 1: Create a 4X2 integer array and Prints its attributes\n",
    "a=np.array([[2,3],[5,4],[7,5],[2,1]])\n",
    "print(a)\n",
    "print('numpy array attribute')\n",
    "print('array shape ia:',np.shape(a))\n",
    "print('array dimension are:',np.ndim(a))\n",
    "print('Length of each element of array in bytes is:',a.itemsize)"
   ]
  },
  {
   "cell_type": "code",
   "execution_count": 4,
   "metadata": {},
   "outputs": [
    {
     "name": "stdout",
     "output_type": "stream",
     "text": [
      "Creating 5X2 array using np.arange\n",
      "[[100 110]\n",
      " [120 130]\n",
      " [140 150]\n",
      " [160 170]\n",
      " [180 190]]\n"
     ]
    }
   ],
   "source": [
    "#Exercise 2: Create a 5X2 integer array from a range between 100 to 200 such that the difference between each element is 10\n",
    "print(\"Creating 5X2 array using np.arange\")\n",
    "s= np.arange(100, 200, 10)\n",
    "s = s.reshape(5,2)\n",
    "print (s)"
   ]
  },
  {
   "cell_type": "code",
   "execution_count": 5,
   "metadata": {},
   "outputs": [
    {
     "name": "stdout",
     "output_type": "stream",
     "text": [
      "[[11 22 33]\n",
      " [44 55 66]\n",
      " [77 88 99]]\n",
      "third column for all row: [33 66 99]\n"
     ]
    }
   ],
   "source": [
    "#Exercise 3: Following is the provided numPy array. Return array of items by taking the third column from all rows\n",
    "a = np.array([[11 ,22, 33], [44, 55, 66], [77, 88, 99]])\n",
    "a.reshape(3,3)\n",
    "print(a)\n",
    "print('third column for all row:',a[:,2])\n",
    "\n"
   ]
  },
  {
   "cell_type": "code",
   "execution_count": 6,
   "metadata": {},
   "outputs": [
    {
     "name": "stdout",
     "output_type": "stream",
     "text": [
      "[[ 3  6  9 12]\n",
      " [15 18 21 24]\n",
      " [27 30 33 36]\n",
      " [39 42 45 48]\n",
      " [51 54 57 60]]\n",
      "odd rows and even columns is:\n"
     ]
    },
    {
     "data": {
      "text/plain": [
       "array([[ 6, 12],\n",
       "       [30, 36],\n",
       "       [54, 60]])"
      ]
     },
     "execution_count": 6,
     "metadata": {},
     "output_type": "execute_result"
    }
   ],
   "source": [
    "#Exercise 4: Return array of odd rows and even columns from below numpy array\n",
    "x = np.array([[3 ,6, 9, 12], [15 ,18, 21, 24],[27 ,30, 33, 36], [39 ,42, 45, 48], [51 ,54, 57, 60]])\n",
    "print(x)\n",
    "print('odd rows and even columns is:')\n",
    "x[::2, 1::2]"
   ]
  },
  {
   "cell_type": "code",
   "execution_count": 7,
   "metadata": {},
   "outputs": [
    {
     "name": "stdout",
     "output_type": "stream",
     "text": [
      "[[ 5  6  9]\n",
      " [21 18 27]]\n",
      "[[15 33 24]\n",
      " [ 4  7  1]]\n",
      "addition of two array is:\n",
      "[[20 39 33]\n",
      " [25 25 28]]\n",
      "after calculating the square root of all elements\n",
      "[[ 400 1521 1089]\n",
      " [ 625  625  784]]\n"
     ]
    }
   ],
   "source": [
    "#Exercise 5: Create a result array by adding the following two NumPy arrays. Next, modify the result array by calculating the square of each element\n",
    "a = np.array([[5, 6, 9], [21 ,18, 27]])\n",
    "print(a)\n",
    "b = np.array([[15 ,33, 24], [4 ,7, 1]])\n",
    "print(b)\n",
    "c=a+b\n",
    "print('addition of two array is:')\n",
    "print(c)\n",
    "d=c*c\n",
    "print('after calculating the square root of all elements')\n",
    "print(d)"
   ]
  },
  {
   "cell_type": "code",
   "execution_count": 8,
   "metadata": {},
   "outputs": [
    {
     "name": "stdout",
     "output_type": "stream",
     "text": [
      "Creating 8X3 array using numpy.arange\n",
      "[[20 21 22]\n",
      " [23 24 25]\n",
      " [26 27 28]\n",
      " [29 30 31]\n",
      " [32 33 34]\n",
      " [35 36 37]\n",
      " [38 39 40]\n",
      " [41 42 43]]\n",
      "\n",
      "Dividing 8X3 array into 4 sub array\n",
      "\n",
      "[array([[20, 21, 22],\n",
      "       [23, 24, 25]]), array([[26, 27, 28],\n",
      "       [29, 30, 31]]), array([[32, 33, 34],\n",
      "       [35, 36, 37]]), array([[38, 39, 40],\n",
      "       [41, 42, 43]])]\n"
     ]
    }
   ],
   "source": [
    "#Exercise 6: Split the array into four equal-sized sub-arrays\n",
    "print(\"Creating 8X3 array using numpy.arange\")\n",
    "s = np.arange(20, 44, 1)\n",
    "s = s.reshape(8,3)\n",
    "print (s)\n",
    "\n",
    "print(\"\\nDividing 8X3 array into 4 sub array\\n\")\n",
    "subArrays = np.split(s, 4) \n",
    "print(subArrays)"
   ]
  },
  {
   "cell_type": "code",
   "execution_count": 9,
   "metadata": {},
   "outputs": [
    {
     "name": "stdout",
     "output_type": "stream",
     "text": [
      "[[34 43 73]\n",
      " [82 22 12]\n",
      " [53 94 66]]\n",
      "sort array by the second row:\n",
      "[[73 43 34]\n",
      " [12 22 82]\n",
      " [66 94 53]]\n",
      "sort array by the second column:\n",
      "[[73 43 34]\n",
      " [12 22 82]\n",
      " [66 94 53]]\n"
     ]
    }
   ],
   "source": [
    "#Exercise 7: Sort following NumPy array\n",
    "#Case 1: Sort array by the second row\n",
    "#Case 2: Sort the array by the second column\n",
    "a = np.array([[34,43,73],[82,22,12],[53,94,66]])\n",
    "print(a)\n",
    "print('sort array by the second row:')\n",
    "sort_row=a[:,a[1,:].argsort()]\n",
    "print(sort_row)\n",
    "print('sort array by the second column:')\n",
    "sort_col=a[a[:,1].argsort()]\n",
    "print(sort_row)\n",
    "\n"
   ]
  },
  {
   "cell_type": "code",
   "execution_count": 19,
   "metadata": {},
   "outputs": [
    {
     "name": "stdout",
     "output_type": "stream",
     "text": [
      "[[34 43 73]\n",
      " [82 22 12]\n",
      " [53 94 66]]\n",
      "min: [34 12 53]\n",
      "max [82 94 73]\n"
     ]
    }
   ],
   "source": [
    "array = np.array([[34,43,73],[82,22,12],[53,94,66]])\n",
    "print(array)\n",
    "\n",
    "min =np.amin(array,1)\n",
    "print('min:',min)\n",
    "\n",
    "max=np.amax(array,0)\n",
    "print('max',max)\n"
   ]
  },
  {
   "cell_type": "code",
   "execution_count": 45,
   "metadata": {},
   "outputs": [
    {
     "name": "stdout",
     "output_type": "stream",
     "text": [
      "original array\n",
      "[[34 43 73]\n",
      " [82 22 12]\n",
      " [53 94 66]]\n",
      "-------------------\n",
      "delete 1st col:\n",
      "[[34 73]\n",
      " [82 12]\n",
      " [53 66]]\n",
      "----------------------\n",
      "insert column:\n",
      "[[34 10 43 73]\n",
      " [82 10 22 12]\n",
      " [53 10 94 66]]\n"
     ]
    }
   ],
   "source": [
    "#Exercise 9: Delete the second column from a given array and insert the following new column in its place.\n",
    "array = np.array([[34,43,73],[82,22,12],[53,94,66]]) \n",
    "col = np.array([[10,10,10]])\n",
    "print('original array')\n",
    "print(array)\n",
    "print('-------------------')\n",
    "print('delete 1st col:')\n",
    "print(np.delete(array,1,axis=1))\n",
    "print(\"----------------------\")\n",
    "print('insert column:')\n",
    "print(np.insert(array , 1, col, axis = 1))\n"
   ]
  },
  {
   "cell_type": "code",
   "execution_count": 55,
   "metadata": {},
   "outputs": [
    {
     "data": {
      "image/png": "[encoded data removed]",
      "text/plain": [
       "<Figure size 640x480 with 1 Axes>"
      ]
     },
     "metadata": {},
     "output_type": "display_data"
    }
   ],
   "source": [
    "#Exercise 10: Create two 2-D arrays and Plot them using matplotlib\n",
    "import matplotlib.pyplot as plt\n",
    "array=np.array([[45,67,86],[65,76,87],[87,23,45]])\n",
    "plt.plot(array);\n"
   ]
  }
 ],
 "metadata": {
  "kernelspec": {
   "display_name": "Python 3",
   "language": "python",
   "name": "python3"
  },
  "language_info": {
   "codemirror_mode": {
    "name": "ipython",
    "version": 3
   },
   "file_extension": ".py",
   "mimetype": "text/x-python",
   "name": "python",
   "nbconvert_exporter": "python",
   "pygments_lexer": "ipython3",
   "version": "3.11.9"
  }
 },
 "nbformat": 4,
 "nbformat_minor": 2
}
